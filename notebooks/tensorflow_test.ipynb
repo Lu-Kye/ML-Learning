{
 "cells": [
  {
   "cell_type": "code",
   "execution_count": 1,
   "metadata": {},
   "outputs": [
    {
     "name": "stdout",
     "output_type": "stream",
     "text": [
      "/Users/osx/Documents/ml-workspace/LearningML\n"
     ]
    }
   ],
   "source": [
    "cd .."
   ]
  },
  {
   "cell_type": "code",
   "execution_count": 2,
   "metadata": {},
   "outputs": [],
   "source": [
    "import tensorflow as tf\n",
    "import pandas\n",
    "import numpy as np"
   ]
  },
  {
   "cell_type": "code",
   "execution_count": 3,
   "metadata": {},
   "outputs": [
    {
     "name": "stdout",
     "output_type": "stream",
     "text": [
      "Tensor(\"random_normal:0\", shape=(10, 5), dtype=float32)\n",
      "<class 'numpy.ndarray'>\n"
     ]
    },
    {
     "data": {
      "text/html": [
       "<div>\n",
       "<style scoped>\n",
       "    .dataframe tbody tr th:only-of-type {\n",
       "        vertical-align: middle;\n",
       "    }\n",
       "\n",
       "    .dataframe tbody tr th {\n",
       "        vertical-align: top;\n",
       "    }\n",
       "\n",
       "    .dataframe thead th {\n",
       "        text-align: right;\n",
       "    }\n",
       "</style>\n",
       "<table border=\"1\" class=\"dataframe\">\n",
       "  <thead>\n",
       "    <tr style=\"text-align: right;\">\n",
       "      <th></th>\n",
       "      <th>0</th>\n",
       "      <th>1</th>\n",
       "      <th>2</th>\n",
       "      <th>3</th>\n",
       "      <th>4</th>\n",
       "    </tr>\n",
       "  </thead>\n",
       "  <tbody>\n",
       "    <tr>\n",
       "      <th>0</th>\n",
       "      <td>1.153224</td>\n",
       "      <td>0.917445</td>\n",
       "      <td>1.030942</td>\n",
       "      <td>1.074285</td>\n",
       "      <td>0.989181</td>\n",
       "    </tr>\n",
       "    <tr>\n",
       "      <th>1</th>\n",
       "      <td>1.067416</td>\n",
       "      <td>1.179566</td>\n",
       "      <td>1.103843</td>\n",
       "      <td>0.989355</td>\n",
       "      <td>1.139697</td>\n",
       "    </tr>\n",
       "    <tr>\n",
       "      <th>2</th>\n",
       "      <td>1.003614</td>\n",
       "      <td>0.934770</td>\n",
       "      <td>0.997546</td>\n",
       "      <td>1.118269</td>\n",
       "      <td>0.840090</td>\n",
       "    </tr>\n",
       "    <tr>\n",
       "      <th>3</th>\n",
       "      <td>1.072702</td>\n",
       "      <td>1.081304</td>\n",
       "      <td>0.942060</td>\n",
       "      <td>1.061734</td>\n",
       "      <td>0.880307</td>\n",
       "    </tr>\n",
       "    <tr>\n",
       "      <th>4</th>\n",
       "      <td>0.941007</td>\n",
       "      <td>1.040780</td>\n",
       "      <td>1.104817</td>\n",
       "      <td>0.988608</td>\n",
       "      <td>0.991010</td>\n",
       "    </tr>\n",
       "    <tr>\n",
       "      <th>5</th>\n",
       "      <td>1.153041</td>\n",
       "      <td>0.906497</td>\n",
       "      <td>1.115499</td>\n",
       "      <td>1.016584</td>\n",
       "      <td>0.810684</td>\n",
       "    </tr>\n",
       "    <tr>\n",
       "      <th>6</th>\n",
       "      <td>0.893333</td>\n",
       "      <td>0.944812</td>\n",
       "      <td>0.935364</td>\n",
       "      <td>0.801583</td>\n",
       "      <td>0.927746</td>\n",
       "    </tr>\n",
       "    <tr>\n",
       "      <th>7</th>\n",
       "      <td>1.096777</td>\n",
       "      <td>0.842832</td>\n",
       "      <td>1.092250</td>\n",
       "      <td>1.025023</td>\n",
       "      <td>1.090764</td>\n",
       "    </tr>\n",
       "    <tr>\n",
       "      <th>8</th>\n",
       "      <td>0.944999</td>\n",
       "      <td>0.752917</td>\n",
       "      <td>0.888310</td>\n",
       "      <td>0.952720</td>\n",
       "      <td>1.077770</td>\n",
       "    </tr>\n",
       "    <tr>\n",
       "      <th>9</th>\n",
       "      <td>1.045389</td>\n",
       "      <td>0.898318</td>\n",
       "      <td>0.987479</td>\n",
       "      <td>1.104608</td>\n",
       "      <td>0.959142</td>\n",
       "    </tr>\n",
       "  </tbody>\n",
       "</table>\n",
       "</div>"
      ],
      "text/plain": [
       "          0         1         2         3         4\n",
       "0  1.153224  0.917445  1.030942  1.074285  0.989181\n",
       "1  1.067416  1.179566  1.103843  0.989355  1.139697\n",
       "2  1.003614  0.934770  0.997546  1.118269  0.840090\n",
       "3  1.072702  1.081304  0.942060  1.061734  0.880307\n",
       "4  0.941007  1.040780  1.104817  0.988608  0.991010\n",
       "5  1.153041  0.906497  1.115499  1.016584  0.810684\n",
       "6  0.893333  0.944812  0.935364  0.801583  0.927746\n",
       "7  1.096777  0.842832  1.092250  1.025023  1.090764\n",
       "8  0.944999  0.752917  0.888310  0.952720  1.077770\n",
       "9  1.045389  0.898318  0.987479  1.104608  0.959142"
      ]
     },
     "execution_count": 3,
     "metadata": {},
     "output_type": "execute_result"
    }
   ],
   "source": [
    "# Normal distribution\n",
    "w = tf.random_normal([10, 5], mean=1.0, stddev=0.1, dtype=tf.float32, seed=910517, name=\"random_normal\")\n",
    "print(w)\n",
    "sess = tf.Session()\n",
    "result = []\n",
    "with sess:\n",
    "    result = sess.run(w)\n",
    "    print(type(result))\n",
    "#     print(result)    \n",
    "    \n",
    "# Display result by data frame\n",
    "df = pandas.DataFrame(result)\n",
    "df"
   ]
  },
  {
   "cell_type": "code",
   "execution_count": null,
   "metadata": {},
   "outputs": [],
   "source": [
    "# Forward \n"
   ]
  }
 ],
 "metadata": {
  "kernelspec": {
   "display_name": "Python 3",
   "language": "python",
   "name": "python3"
  },
  "language_info": {
   "codemirror_mode": {
    "name": "ipython",
    "version": 3
   },
   "file_extension": ".py",
   "mimetype": "text/x-python",
   "name": "python",
   "nbconvert_exporter": "python",
   "pygments_lexer": "ipython3",
   "version": "3.6.4"
  }
 },
 "nbformat": 4,
 "nbformat_minor": 2
}
