{
 "cells": [
  {
   "cell_type": "code",
   "execution_count": 1,
   "metadata": {},
   "outputs": [],
   "source": [
    "import tensorflow as tf\n",
    "import matplotlib.pyplot as plt\n",
    "import numpy as np"
   ]
  },
  {
   "cell_type": "code",
   "execution_count": 2,
   "metadata": {},
   "outputs": [
    {
     "name": "stdout",
     "output_type": "stream",
     "text": [
      "2d_arr:\n",
      "[[0 3]\n",
      " [1 2]]\n",
      "first_axis:[0 2]\n",
      "second_axis:[0 1]\n"
     ]
    }
   ],
   "source": [
    "# Amin \n",
    "arr = np.ndarray(shape=[2, 2], dtype=int, buffer=np.array([0,3,1,2]))\n",
    "print(\"2d_arr:\\n\" + str(arr))\n",
    "arr_min = np.amin(arr, axis=0)\n",
    "print(\"first_axis:\" + str(arr_min))\n",
    "arr_min = np.amin(arr, axis=1)\n",
    "print(\"second_axis:\" + str(arr_min))"
   ]
  }
 ],
 "metadata": {
  "kernelspec": {
   "display_name": "Python 3",
   "language": "python",
   "name": "python3"
  },
  "language_info": {
   "codemirror_mode": {
    "name": "ipython",
    "version": 3
   },
   "file_extension": ".py",
   "mimetype": "text/x-python",
   "name": "python",
   "nbconvert_exporter": "python",
   "pygments_lexer": "ipython3",
   "version": "3.6.4"
  }
 },
 "nbformat": 4,
 "nbformat_minor": 2
}
