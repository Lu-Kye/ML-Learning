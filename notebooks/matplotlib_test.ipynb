{
 "cells": [
  {
   "cell_type": "code",
   "execution_count": 56,
   "metadata": {},
   "outputs": [],
   "source": [
    "import tensorflow as tf\n",
    "from tensorflow.python.framework import dtypes\n",
    "import matplotlib.pyplot as plt\n",
    "import numpy as np\n",
    "import pandas\n",
    "import random"
   ]
  },
  {
   "cell_type": "code",
   "execution_count": 57,
   "metadata": {},
   "outputs": [
    {
     "data": {
      "image/png": "[encoded data removed]",
      "text/plain": [
       "<matplotlib.figure.Figure at 0x11b8e9470>"
      ]
     },
     "metadata": {},
     "output_type": "display_data"
    }
   ],
   "source": [
    "# fig = plt.figure()\n",
    "# ax = fig.add_subplot(111)\n",
    "ax = plt.subplot(111)\n",
    "x = np.arange(0, 10, 0.2)\n",
    "y = np.sin(x)\n",
    "ax.plot(x, y)\n",
    "plt.show()"
   ]
  },
  {
   "cell_type": "code",
   "execution_count": 58,
   "metadata": {},
   "outputs": [
    {
     "data": {
      "text/html": [
       "<div>\n",
       "<style scoped>\n",
       "    .dataframe tbody tr th:only-of-type {\n",
       "        vertical-align: middle;\n",
       "    }\n",
       "\n",
       "    .dataframe tbody tr th {\n",
       "        vertical-align: top;\n",
       "    }\n",
       "\n",
       "    .dataframe thead th {\n",
       "        text-align: right;\n",
       "    }\n",
       "</style>\n",
       "<table border=\"1\" class=\"dataframe\">\n",
       "  <thead>\n",
       "    <tr style=\"text-align: right;\">\n",
       "      <th></th>\n",
       "      <th>0</th>\n",
       "      <th>1</th>\n",
       "      <th>2</th>\n",
       "      <th>3</th>\n",
       "      <th>4</th>\n",
       "    </tr>\n",
       "  </thead>\n",
       "  <tbody>\n",
       "    <tr>\n",
       "      <th>0</th>\n",
       "      <td>0.918868</td>\n",
       "      <td>1.148460</td>\n",
       "      <td>1.006533</td>\n",
       "      <td>0.755730</td>\n",
       "      <td>1.009925</td>\n",
       "    </tr>\n",
       "    <tr>\n",
       "      <th>1</th>\n",
       "      <td>1.059122</td>\n",
       "      <td>1.059282</td>\n",
       "      <td>0.787707</td>\n",
       "      <td>0.927710</td>\n",
       "      <td>0.994373</td>\n",
       "    </tr>\n",
       "    <tr>\n",
       "      <th>2</th>\n",
       "      <td>1.064354</td>\n",
       "      <td>0.973568</td>\n",
       "      <td>1.185663</td>\n",
       "      <td>1.056784</td>\n",
       "      <td>0.961716</td>\n",
       "    </tr>\n",
       "    <tr>\n",
       "      <th>3</th>\n",
       "      <td>0.851466</td>\n",
       "      <td>1.126177</td>\n",
       "      <td>0.997469</td>\n",
       "      <td>0.973537</td>\n",
       "      <td>1.153281</td>\n",
       "    </tr>\n",
       "    <tr>\n",
       "      <th>4</th>\n",
       "      <td>0.825702</td>\n",
       "      <td>0.956211</td>\n",
       "      <td>0.943399</td>\n",
       "      <td>1.032067</td>\n",
       "      <td>1.113283</td>\n",
       "    </tr>\n",
       "  </tbody>\n",
       "</table>\n",
       "</div>"
      ],
      "text/plain": [
       "          0         1         2         3         4\n",
       "0  0.918868  1.148460  1.006533  0.755730  1.009925\n",
       "1  1.059122  1.059282  0.787707  0.927710  0.994373\n",
       "2  1.064354  0.973568  1.185663  1.056784  0.961716\n",
       "3  0.851466  1.126177  0.997469  0.973537  1.153281\n",
       "4  0.825702  0.956211  0.943399  1.032067  1.113283"
      ]
     },
     "execution_count": 58,
     "metadata": {},
     "output_type": "execute_result"
    }
   ],
   "source": [
    "test_data_asarray = np.ndarray([])\n",
    "test_data = tf.random_normal([50, 5], mean=1.0, stddev=0.1, dtype=dtypes.float32, seed=1, name=\"test_data\")\n",
    "sess = tf.Session()\n",
    "with sess:\n",
    "    test_data_asarray = sess.run(test_data)\n",
    "\n",
    "# Visualizes test data by data frame\n",
    "df = pandas.DataFrame(test_data_asarray[0:5, :])\n",
    "df"
   ]
  },
  {
   "cell_type": "code",
   "execution_count": 59,
   "metadata": {},
   "outputs": [
    {
     "name": "stdout",
     "output_type": "stream",
     "text": [
      "min: 0.7233093\n",
      "max: 1.2094043\n"
     ]
    }
   ],
   "source": [
    "test_data_1darray = test_data_asarray.reshape(-1)\n",
    "# df = pandas.DataFrame(test_data_1darray[0:5])\n",
    "# df\n",
    "test_data_min = test_data_1darray.min(axis=0)\n",
    "print(\"min: \" + str(test_data_min))\n",
    "test_data_max = test_data_1darray.max(axis=0)\n",
    "print(\"max: \" + str(test_data_max))"
   ]
  },
  {
   "cell_type": "code",
   "execution_count": 60,
   "metadata": {},
   "outputs": [
    {
     "name": "stdout",
     "output_type": "stream",
     "text": [
      "[0.5, 0.51, 0.52, 0.53, 0.54, 0.55, 0.56, 0.57, 0.58, 0.59]\n"
     ]
    }
   ],
   "source": [
    "test_data_dict = dict()\n",
    "test_data_keys = []\n",
    "for key in range(50, 150, 1):\n",
    "    test_data_keys.append(key/100)\n",
    "print(test_data_keys[0:10])"
   ]
  },
  {
   "cell_type": "code",
   "execution_count": 61,
   "metadata": {},
   "outputs": [
    {
     "name": "stdout",
     "output_type": "stream",
     "text": [
      "[0.91, 1.14, 1.0, 0.75, 1.05]\n",
      "[8, 4, 11, 3, 8]\n"
     ]
    },
    {
     "data": {
      "image/png": "[encoded data removed]",
      "text/plain": [
       "<matplotlib.figure.Figure at 0x11b8d49e8>"
      ]
     },
     "metadata": {},
     "output_type": "display_data"
    }
   ],
   "source": [
    "def get_closest_key(value, keys):\n",
    "    previous_key = keys[0]\n",
    "    for key in keys:\n",
    "        if value == key:\n",
    "            return key\n",
    "        if value < key:\n",
    "            return previous_key\n",
    "        previous_key = key\n",
    "    return previous_key\n",
    "\n",
    "# Test get_closest_key\n",
    "# print(get_closest_key(0.53325, test_data_keys))\n",
    "\n",
    "for value in test_data_1darray:\n",
    "    key = get_closest_key(value, test_data_keys)\n",
    "#     print(key)\n",
    "    if key not in test_data_dict:\n",
    "        test_data_dict[key] = 1\n",
    "        continue\n",
    "    test_data_dict[key] = test_data_dict[key] + 1\n",
    "\n",
    "x = list(test_data_dict.keys())\n",
    "y = list(test_data_dict.values())\n",
    "\n",
    "fig, ax = plt.subplots()\n",
    "ax_x = x[0:5]\n",
    "print(ax_x)\n",
    "ax_y = y[0:5]\n",
    "print(ax_y)\n",
    "# ax.plot(ax_x, ax_y)\n",
    "# fig.tight_layout()\n",
    "x.append(1.51)\n",
    "ax.hist(test_data_1darray,test_data_keys)\n",
    "plt.show()"
   ]
  },
  {
   "cell_type": "code",
   "execution_count": null,
   "metadata": {},
   "outputs": [],
   "source": []
  }
 ],
 "metadata": {
  "kernelspec": {
   "display_name": "Python 3",
   "language": "python",
   "name": "python3"
  },
  "language_info": {
   "codemirror_mode": {
    "name": "ipython",
    "version": 3
   },
   "file_extension": ".py",
   "mimetype": "text/x-python",
   "name": "python",
   "nbconvert_exporter": "python",
   "pygments_lexer": "ipython3",
   "version": "3.6.4"
  }
 },
 "nbformat": 4,
 "nbformat_minor": 2
}
